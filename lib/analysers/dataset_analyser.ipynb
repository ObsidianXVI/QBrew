{
 "cells": [
  {
   "cell_type": "code",
   "execution_count": 31,
   "metadata": {},
   "outputs": [],
   "source": [
    "import csv\n",
    "import numpy as np\n",
    "import matplotlib.pyplot as plt\n",
    "import tools as tools\n",
    "\n",
    "policy: str = \"EG\"\n",
    "dataset: str = \"D4\"\n",
    "fileToAccess: str = (\"../../data/archives/datasets/\" + policy + \"_\" + dataset + \"/range.csv\")\n",
    "sampleStepSize: int = 1300 # 60\n",
    "startIndex: int = 0\n",
    "\n",
    "sm_color:str = \"#7b2cbf\"\n",
    "ep_color:str = \"#e63946\"\n",
    "\n",
    "timesteps:list[int] = []"
   ]
  },
  {
   "cell_type": "code",
   "execution_count": 32,
   "metadata": {},
   "outputs": [],
   "source": [
    "def graphRangeCSV(fileToAccess:str) -> None:\n",
    "    rmax: list[float] = []\n",
    "    rmin: list[float] = []\n",
    "    ravg: list[float] = []\n",
    "    with open(fileToAccess) as f:\n",
    "        plots = csv.reader(f, delimiter=';')\n",
    "        next(plots)\n",
    "        for i, row in enumerate(plots):\n",
    "            if i < startIndex: continue\n",
    "            if i % sampleStepSize !=0: continue\n",
    "            timesteps.append(int(row[0]))\n",
    "            rmax.append(float(row[1]))\n",
    "            rmin.append(float(row[2]))\n",
    "            ravg.append(float(row[3]))\n",
    "    plt.xlabel(\"timestep\")\n",
    "    plt.ylabel(\"reward (dollars)\")\n",
    "    plt.title(\"SoftMax\" if policy == \"SM\"  else \"Epsilon-Greedy\")\n",
    "    plt.grid(linestyle=\"--\", linewidth=0.5)\n",
    "    plt.ylim([-150, 170])\n",
    "    plt.plot(timesteps, ravg, sm_color if policy == \"SM\"  else ep_color)\n",
    "    plt.fill_between(timesteps, rmax, rmin, color=sm_color if policy == \"SM\"  else ep_color, alpha=0.4)"
   ]
  },
  {
   "cell_type": "code",
   "execution_count": 33,
   "metadata": {},
   "outputs": [],
   "source": [
    "def normaliseLossDistr(lossDistr: list[float]) -> list[float]:\n",
    "    normalisedDistr: list[float] = []\n",
    "    min_val: float = min(lossDistr)\n",
    "    max_val: float = max(lossDistr)\n",
    "    for n in lossDistr:\n",
    "        normalisedDistr.append((n-min_val)/(max_val-min_val))\n",
    "    return normalisedDistr\n",
    "def graphLossDistr(fileToAccess:str, epochSize: int, episodeSize: int) -> None:\n",
    "    target1: float = 32\n",
    "    target2: float = 11\n",
    "    target3: float = 51\n",
    "    target4: float = 70\n",
    "    timestepsChunk: int = epochSize * episodeSize\n",
    "    loss: list[float] = []\n",
    "    with open(fileToAccess) as f:\n",
    "        plots = csv.reader(f, delimiter=';')\n",
    "        next(plots)\n",
    "        for i, row in enumerate(plots):\n",
    "            target: float\n",
    "            if (i < timestepsChunk): target = target1\n",
    "            elif (i < 2* timestepsChunk): target = target2\n",
    "            elif (i < 3*timestepsChunk): target = target3\n",
    "            elif (i <= 4*timestepsChunk): target = target4\n",
    "            else: target = target1\n",
    "            if i < startIndex: continue\n",
    "            if i % sampleStepSize !=0: continue\n",
    "            timesteps.append(int(row[0]))\n",
    "            loss.append(tools.calculateLoss(float(row[3]), target))\n",
    "    normalisedLossDistr: list[float] = normaliseLossDistr(loss)\n",
    "    plt.xlabel(\"timestep\")\n",
    "    plt.ylabel(\"loss (dollars)\")\n",
    "    plt.title(\"SoftMax\" if policy == \"SM\"  else \"Epsilon-Greedy\")\n",
    "    plt.grid(linestyle=\"--\", linewidth=0.5)\n",
    "    plt.plot(timesteps, normalisedLossDistr, sm_color if policy == \"SM\"  else ep_color)\n",
    "    print(tools.findMeanSquaredError(normalisedLossDistr))\n",
    "\n",
    "def computeReconvTimes(fileToAccess:str, epochSize: int, episodeSize: int) -> None:\n",
    "    lossThreshold: int = 20\n",
    "    timeThreshold: int = 250\n",
    "    target1: float = 32\n",
    "    target2: float = 11\n",
    "    target3: float = 51\n",
    "    target4: float = 70\n",
    "    timestepsChunk: int = epochSize * episodeSize\n",
    "    rew1: list[float] = []\n",
    "    rew2: list[float] = []\n",
    "    rew3: list[float] = []\n",
    "    rew4: list[float] = []\n",
    "    durations: list = []\n",
    "    with open(fileToAccess) as f:\n",
    "        plots = csv.reader(f, delimiter=';')\n",
    "        next(plots)\n",
    "        for i, row in enumerate(plots):\n",
    "            if (i < timestepsChunk):\n",
    "                rew1.append(float(row[3]))\n",
    "            elif (timestepsChunk<i < 2* timestepsChunk):\n",
    "                rew2.append(float(row[3]))\n",
    "            elif (2* timestepsChunk <i < 3*timestepsChunk):\n",
    "                rew3.append(float(row[3]))\n",
    "            elif (3*timestepsChunk<i < 4*timestepsChunk):\n",
    "                rew4.append(float(row[3]))\n",
    "            else:\n",
    "                timesteps.append(int(row[0]))\n",
    "                if (i == timestepsChunk):\n",
    "                    rew1.append(float(row[3]))\n",
    "                    durations.append(tools.findReconvergenceTime(rew1, target1, lossThreshold, timeThreshold))\n",
    "                elif (i == 2 * timestepsChunk):\n",
    "                    rew2.append(float(row[3]))\n",
    "                    durations.append(tools.findReconvergenceTime(rew2, target2, lossThreshold, timeThreshold))\n",
    "                elif (i == 3* timestepsChunk):\n",
    "                    rew3.append(float(row[3]))\n",
    "                    durations.append(tools.findReconvergenceTime(rew3, target3, lossThreshold, timeThreshold))\n",
    "                elif (i == 4* timestepsChunk):\n",
    "                    rew4.append(float(row[3]))\n",
    "                    durations.append(tools.findReconvergenceTime(rew4, target4, lossThreshold, timeThreshold))\n",
    "            # if i < startIndex: continue\n",
    "            # if i % sampleStepSize !=0: continue\n",
    "    # normalisedLossDistr: list[float] = normaliseLossDistr(loss)\n",
    "    print(durations)\n"
   ]
  },
  {
   "cell_type": "code",
   "execution_count": 34,
   "metadata": {},
   "outputs": [
    {
     "name": "stdout",
     "output_type": "stream",
     "text": [
      "[912, None, None]\n"
     ]
    }
   ],
   "source": [
    "# graphRangeCSV(fileToAccess)\n",
    "computeReconvTimes(fileToAccess, 1500, 40)"
   ]
  },
  {
   "cell_type": "code",
   "execution_count": 35,
   "metadata": {},
   "outputs": [],
   "source": [
    "# graphLossDistr(fileToAccess, 1500, 40)"
   ]
  },
  {
   "cell_type": "code",
   "execution_count": 36,
   "metadata": {},
   "outputs": [
    {
     "data": {
      "text/plain": [
       "' z = np.polyfit(timesteps, ravg, 4)\\np = np.poly1d(z)\\nplt.plot(timesteps, p(timesteps), \"g\") '"
      ]
     },
     "execution_count": 36,
     "metadata": {},
     "output_type": "execute_result"
    }
   ],
   "source": [
    "# plt.scatter(x=timesteps, y=rmax, color=\"g\")\n",
    "\n",
    "\n",
    "\n",
    "\"\"\" z = np.polyfit(timesteps, ravg, 4)\n",
    "p = np.poly1d(z)\n",
    "plt.plot(timesteps, p(timesteps), \"g\") \"\"\"\n"
   ]
  }
 ],
 "metadata": {
  "kernelspec": {
   "display_name": "base",
   "language": "python",
   "name": "python3"
  },
  "language_info": {
   "codemirror_mode": {
    "name": "ipython",
    "version": 3
   },
   "file_extension": ".py",
   "mimetype": "text/x-python",
   "name": "python",
   "nbconvert_exporter": "python",
   "pygments_lexer": "ipython3",
   "version": "3.9.13"
  },
  "orig_nbformat": 4
 },
 "nbformat": 4,
 "nbformat_minor": 2
}
