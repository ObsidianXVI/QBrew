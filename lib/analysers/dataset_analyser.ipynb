{
 "cells": [
  {
   "cell_type": "code",
   "execution_count": 3,
   "metadata": {},
   "outputs": [
    {
     "name": "stdout",
     "output_type": "stream",
     "text": [
      "0\n",
      "1000\n"
     ]
    },
    {
     "ename": "IndexError",
     "evalue": "list index out of range",
     "output_type": "error",
     "traceback": [
      "\u001b[0;31m---------------------------------------------------------------------------\u001b[0m",
      "\u001b[0;31mIndexError\u001b[0m                                Traceback (most recent call last)",
      "\u001b[0;32m/var/folders/wj/np82v0mx4jz3yq0tdskmlfj40000gp/T/ipykernel_26954/1426416133.py\u001b[0m in \u001b[0;36m<module>\u001b[0;34m\u001b[0m\n\u001b[1;32m     24\u001b[0m             \u001b[0;32melse\u001b[0m\u001b[0;34m:\u001b[0m\u001b[0;34m\u001b[0m\u001b[0;34m\u001b[0m\u001b[0m\n\u001b[1;32m     25\u001b[0m                 \u001b[0mprint\u001b[0m\u001b[0;34m(\u001b[0m\u001b[0mi\u001b[0m\u001b[0;34m)\u001b[0m\u001b[0;34m\u001b[0m\u001b[0;34m\u001b[0m\u001b[0m\n\u001b[0;32m---> 26\u001b[0;31m                 \u001b[0mreward\u001b[0m\u001b[0;34m[\u001b[0m\u001b[0mi\u001b[0m\u001b[0;34m]\u001b[0m\u001b[0;34m.\u001b[0m\u001b[0mappend\u001b[0m\u001b[0;34m(\u001b[0m\u001b[0mfloat\u001b[0m\u001b[0;34m(\u001b[0m\u001b[0mrow\u001b[0m\u001b[0;34m[\u001b[0m\u001b[0mlen\u001b[0m\u001b[0;34m(\u001b[0m\u001b[0mrow\u001b[0m\u001b[0;34m)\u001b[0m\u001b[0;34m-\u001b[0m\u001b[0;36m1\u001b[0m\u001b[0;34m]\u001b[0m\u001b[0;34m)\u001b[0m\u001b[0;34m)\u001b[0m\u001b[0;34m\u001b[0m\u001b[0;34m\u001b[0m\u001b[0m\n\u001b[0m\u001b[1;32m     27\u001b[0m \u001b[0;34m\u001b[0m\u001b[0m\n\u001b[1;32m     28\u001b[0m     \u001b[0;32mif\u001b[0m \u001b[0mfile\u001b[0m \u001b[0;34m==\u001b[0m \u001b[0mfilesToAccess\u001b[0m\u001b[0;34m[\u001b[0m\u001b[0;36m0\u001b[0m\u001b[0;34m]\u001b[0m\u001b[0;34m:\u001b[0m\u001b[0;34m\u001b[0m\u001b[0;34m\u001b[0m\u001b[0m\n",
      "\u001b[0;31mIndexError\u001b[0m: list index out of range"
     ]
    }
   ],
   "source": [
    "import csv\n",
    "import numpy as np\n",
    "import matplotlib.pyplot as plt\n",
    "\n",
    "testsToAccess: list[str] = [\"SM_D1_1\", \"SM_D1_2\", \"SM_D1_3\"]\n",
    "filesToAccess: list[str] = [(\"../../data/archives/\" + t + \"/data.csv\") for t in testsToAccess]\n",
    "sampleStepSize: int = 1000 # 60\n",
    "startIndex: int = 0\n",
    "\n",
    "timesteps:list[int] = []\n",
    "reward: list[list[float]] = []\n",
    "\n",
    "isFirstParse: bool = True\n",
    "for file in filesToAccess:\n",
    "    with open(file) as f:\n",
    "        plots = csv.reader(f, delimiter=';')\n",
    "        next(plots)\n",
    "        for i, row in enumerate(plots):\n",
    "            if i < startIndex: continue\n",
    "            if i % sampleStepSize !=0: continue\n",
    "            if isFirstParse:\n",
    "                timesteps.append(int(row[0]))\n",
    "                reward.append([float(row[len(row)-1])])\n",
    "            else:\n",
    "                print(i)\n",
    "                reward[i].append(float(row[len(row)-1]))\n",
    "\n",
    "    if file == filesToAccess[0]:\n",
    "        isFirstParse = False"
   ]
  },
  {
   "cell_type": "code",
   "execution_count": null,
   "metadata": {},
   "outputs": [],
   "source": [
    "rmax: list[float] = [max(n) for n in reward]\n",
    "rmin: list[float] = [min(n) for n in reward]\n",
    "ravg: list[float] = [(sum(n)/len(n)) for n in reward]"
   ]
  },
  {
   "cell_type": "code",
   "execution_count": null,
   "metadata": {},
   "outputs": [],
   "source": [
    "plt.scatter(x=timesteps, y=rmax, color=\"g\")\n",
    "plt.sca\n",
    "plt.xlabel(\"timestep\")\n",
    "plt.ylabel(\"reward\")\n",
    "plt.title(\"Dataset\")\n",
    "\n",
    "\"\"\" z = np.polyfit(timesteps, reward, 4)\n",
    "p = np.poly1d(z) \"\"\"\n",
    "plt.grid(linestyle=\"--\", linewidth=0.5)\n",
    "# plt.plot(timesteps, p(timesteps), \"r\")"
   ]
  }
 ],
 "metadata": {
  "kernelspec": {
   "display_name": "base",
   "language": "python",
   "name": "python3"
  },
  "language_info": {
   "codemirror_mode": {
    "name": "ipython",
    "version": 3
   },
   "file_extension": ".py",
   "mimetype": "text/x-python",
   "name": "python",
   "nbconvert_exporter": "python",
   "pygments_lexer": "ipython3",
   "version": "3.9.13"
  },
  "orig_nbformat": 4
 },
 "nbformat": 4,
 "nbformat_minor": 2
}
